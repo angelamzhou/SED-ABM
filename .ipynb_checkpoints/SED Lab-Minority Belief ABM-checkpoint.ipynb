{
 "cells": [
  {
   "cell_type": "markdown",
   "metadata": {},
   "source": [
    "## Basic spec and description\n",
    "\n",
    "We have a set of N agents. Let $p_{m1}$ be the proportion of committed minority disbelief agents, and let $p_{m2}$ be the proportion of committed minority belief agents. Then $1 - p_{m1} - p_{m2}$ is the proportion of majority agents. \n",
    "\n",
    "We define separate prior distributions for each sub-population of agents, which is uniform across the population in the beginning. Motivated by prior-posterior updating convenience, we consider conjugate families for Bayesian updating. We assume the distribution represents the probability that the agent, if polled would respond \"yes\" to a question of whether they or not they believe in the proposition. \n",
    "\n",
    "Some basic rules for interactions between agents: \n",
    "- beliefs don't update when majority agents interact\n",
    "- minority beliefs don't update at all \n",
    "- belief updating is vaguely compositional/symmetric (interacting with a committed minority, then another committed minority of another type, should cancel out the first interaction) \n",
    "\n",
    "#### Bayesian Model: Beta-Bernoulli / Polya's Urn\n",
    "We use a simple conjugate prior family, the beta-bernoulli family of distributions. The general update model is that the prior beta distribution represents a randomization of the parameter of the Bernoulli distribution.\n",
    "\n",
    "The Beta-Bernoulli process also results in updates that are exchangeable, in that the updates can occur in different orders and would not change the distribution. \n",
    "\n",
    "The parameter of the beta distribution, $\\theta$, would represent the probability of a yes-response of a Bernoulli trial. Here the Bernoulli trial represents the response of an agent, if polled about their beliefs about climate change. \n",
    "\n",
    "This model is a simple and analytically tractable Bayesian model. \n",
    "\n",
    "Beta distribution: parameterized by $\\theta \\in [0,1]$ and two hyperparameters $(a,b)$. \n",
    "\\begin{align}\n",
    "p(\\theta; a, b) = \\frac{1}{B(a,b)} \\theta^{a - 1} (1-\\theta)^{b-1}\n",
    "\\end{align}\n",
    "\n",
    "\\begin{equation}\n",
    "E[X] = \\frac{a}{a+b} \n",
    "\\end{equation}\n",
    "\n",
    "Each bayesian update from a Bernoulli trial updates the parameter a 1 if successful, and the parameter b by 1 if the update \"failed\". (If the updates are binomial, the hyperparameters are updated by number of successes or failures). Therefore we can think of updates as updating the probability parameter of a Bernoulli trial based on previous successes and failures: in this situation, we can think of adding \"reasons\" to believe or disbelieve in climate change based on interactions with committed minorities. It becomes difficult to change beliefs after multiple interactions, which we can potentially change by scaling the binomial distribution updates. \n"
   ]
  },
  {
   "cell_type": "code",
   "execution_count": null,
   "metadata": {
    "collapsed": true
   },
   "outputs": [],
   "source": [
    "from scipy.special import gamma\n",
    "from scipy.special import gammaln\n",
    "\n",
    "# \n",
    "\n",
    "## initialize agents into committed minorities and a committed majority \n",
    "# minority = subsample[agents] \n",
    "# minority_2 = subsample[agents] \n",
    "# majority = \n",
    "\n",
    "# Beliefs are arrays of theta, a, b\n",
    "# minority_beliefs = np.array(len(minority), 3)\n",
    "# minority_2_beliefs = np.array(len(minority_2), 3)\n",
    "# majority_beliefs = np.array(len(majority), 3)\n",
    "\n",
    "# define simulation parameters\n",
    "# initial theta\n",
    "# initial hyperparameters\n",
    "\n",
    "# data structures for logging: keep track of\n",
    "# - distribution of beliefs for each group of agents vs time\n",
    "# - size of each group vs time\n",
    "\n",
    "# start simulation loop (? how long) \n",
    "# select agents at random to interact (how many? weighted by each group? )\n",
    "# check indices of the two agents and implement rules \n",
    "# update their beliefs "
   ]
  }
 ],
 "metadata": {
  "kernelspec": {
   "display_name": "Python 2",
   "language": "python",
   "name": "python2"
  },
  "language_info": {
   "codemirror_mode": {
    "name": "ipython",
    "version": 2
   },
   "file_extension": ".py",
   "mimetype": "text/x-python",
   "name": "python",
   "nbconvert_exporter": "python",
   "pygments_lexer": "ipython2",
   "version": "2.7.8"
  }
 },
 "nbformat": 4,
 "nbformat_minor": 0
}
