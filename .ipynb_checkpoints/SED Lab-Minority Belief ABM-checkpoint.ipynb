{
 "cells": [
  {
   "cell_type": "markdown",
   "metadata": {},
   "source": [
    "## Basic spec and description\n",
    "\n",
    "We have a set of N agents. Let $p_{m1}$ be the proportion of committed minority disbelief agents, and let $p_{m2}$ be the proportion of committed minority belief agents. Then $1 - p_{m1} - p_{m2}$ is the proportion of majority agents. \n",
    "\n",
    "We define separate prior distributions for each sub-population of agents, which is uniform across the population in the beginning. Motivated by prior-posterior updating convenience, we consider conjugate families for Bayesian updating. We assume the distribution represents the probability that the agent, if polled would respond \"yes\" to a question of whether they or not they believe in the proposition. \n",
    "\n",
    "Some basic rules for interactions between agents: \n",
    "- beliefs don't update when majority agents interact\n",
    "- minority beliefs don't update at all \n",
    "- belief updating is vaguely compositional/symmetric (interacting with a committed minority, then another committed minority of another type, should cancel out the first interaction) \n",
    "\n",
    "#### Bayesian Model: Beta-Bernoulli / Polya's Urn\n",
    "We use a simple conjugate prior family, the beta-bernoulli family of distributions. The general update model is that the prior beta distribution represents a randomization of the parameter of the Bernoulli distribution.\n",
    "\n",
    "The Beta-Bernoulli process also results in updates that are exchangeable, in that the updates can occur in different orders and would not change the distribution. \n",
    "\n",
    "The parameter of the beta distribution, $\\theta$, would represent the probability of a yes-response of a Bernoulli trial. Here the Bernoulli trial represents the response of an agent, if polled about their beliefs about climate change. \n",
    "\n",
    "This model is a simple and analytically tractable Bayesian model. \n",
    "\n",
    "Beta distribution: parameterized by $\\theta \\in [0,1]$ and two hyperparameters $(a,b)$. \n",
    "\\begin{align}\n",
    "p(\\theta; a, b) = \\frac{1}{B(a,b)} \\theta^{a - 1} (1-\\theta)^{b-1}\n",
    "\\end{align}\n",
    "\n",
    "\\begin{equation}\n",
    "E[X] = \\frac{a}{a+b} \n",
    "\\end{equation}\n",
    "\n",
    "Each bayesian update from a Bernoulli trial updates the parameter a 1 if successful, and the parameter b by 1 if the update \"failed\". (If the updates are binomial, the hyperparameters are updated by number of successes or failures). Therefore we can think of updates as updating the probability parameter of a Bernoulli trial based on previous successes and failures: in this situation, we can think of adding \"reasons\" to believe or disbelieve in climate change based on interactions with committed minorities. It becomes difficult to change beliefs after multiple interactions, which we can potentially change by scaling the binomial distribution updates. \n"
   ]
  },
  {
   "cell_type": "code",
   "execution_count": 1,
   "metadata": {
    "collapsed": false
   },
   "outputs": [
    {
     "data": {
      "text/plain": [
       "u'C:\\\\Users\\\\paint_000\\\\Anaconda\\\\SED-ABM'"
      ]
     },
     "execution_count": 1,
     "metadata": {},
     "output_type": "execute_result"
    }
   ],
   "source": []
  },
  {
   "cell_type": "code",
   "execution_count": 17,
   "metadata": {
    "collapsed": false
   },
   "outputs": [],
   "source": [
    "from scipy.special import gamma\n",
    "from scipy.special import gammaln\n",
    "from scipy.stats import beta \n",
    "from scipy import optimize\n",
    "import numpy as np\n",
    "import matplotlib.pyplot as plt \n",
    "import random\n",
    "\n",
    "# \n",
    "%matplotlib inline\n",
    "\n",
    "######################################################\n",
    "# Simulation Parameters\n",
    "\n",
    "n = 100\n",
    "# committed believers\n",
    "minority_n = int(0.16*n)\n",
    "minority_theta_0 = 1 # 0 => always responds with positive belief\n",
    "minority_ab = find_a_b(1,1,1)\n",
    "# We need to fit hyperparameters: we want to choose a and b such that the \n",
    "# prior probability of theta being within some interval is some probability p. \n",
    "#print minority_ab\n",
    "\n",
    "# committed disbelievers\n",
    "minority_2_n = int(0.13*n)\n",
    "minority_2_theta_0 = 0\n",
    "minority_2_ab = find_a_b(0,0,1)\n",
    "minority_2_ab.x = [0,1]\n",
    "#print minority_2_ab\n",
    "\n",
    "majority_theta_0 = 0.5\n",
    "majority_ab = find_a_b(0.4, 0.6, 0.1)\n",
    "#print majority_ab\n",
    "agents = np.arange(n)\n",
    "np.random.shuffle(agents)\n",
    "\n",
    "\n",
    "\n",
    "minority = agents[0:minority_n] \n",
    "minority_2 = agents[minority_n:(minority_n+minority_2_n)]\n",
    "majority = agents[(minority_n+minority_2_n):n]\n",
    "\n",
    "## Beliefs are arrays of theta, a, b\n",
    "minority_beliefs = dict.fromkeys(minority, {'ab': minority_2_ab.x, 'theta': minority_theta_0, 'type': 'minority'})\n",
    "minority_2_beliefs = dict.fromkeys(minority_2, { 'ab': minority_2_ab.x,  'theta':minority_2_theta_0, 'type': 'minority_2'})\n",
    "majority_beliefs = dict.fromkeys(majority,  {'ab': majority_ab.x, 'theta': majority_theta_0, 'type': 'majority'} )\n",
    "\n",
    "agent_beliefs = merge_dicts(minority_beliefs, minority_2_beliefs, majority_beliefs)\n"
   ]
  },
  {
   "cell_type": "markdown",
   "metadata": {},
   "source": [
    "### Helper Functions"
   ]
  },
  {
   "cell_type": "code",
   "execution_count": 15,
   "metadata": {
    "collapsed": false
   },
   "outputs": [],
   "source": [
    "###### function find_a_b fits the hyperparameters for beta prior\n",
    "###### \"what values of a and b result in a theta prior being between \n",
    "###### theta_low, theta_high, with probability p? \"\n",
    "###### returns: [a, b]\n",
    "# find_a_b(0.45,0.5,0.6)\n",
    "def find_a_b(theta_low, theta_high, p): \n",
    "    optimal = optimize.minimize( lambda param: abs((beta.pdf(theta_low, param[0], param[1]) - beta.pdf(theta_high, param[0], param[1])) - p ), [1,1])\n",
    "    # return an array of a, b\n",
    "    return optimal\n",
    "\n",
    "def merge_dicts(*dict_args):\n",
    "    result = {}\n",
    "    for dictionary in dict_args:\n",
    "        result.update(dictionary)\n",
    "    return result\n",
    "\n",
    "# Helper function for pairwise belief updating \n",
    "# Update the beliefs of agent by the beliefs of agent 2\n",
    "# Assuming beta-binomial \n",
    "def update_beliefs(agent, agent2, agent_beliefs, t):\n",
    "    if (agent_beliefs[agent]['type'] == 'minority') or (agent_beliefs[agent]['type'] == 'minority_2'): \n",
    "        return\n",
    "    # update beliefs depending on type of other agent\n",
    "    elif agent_beliefs[agent2]['type'] == 'minority': \n",
    "        agent_beliefs[agent]['ab'][0] += 1\n",
    "    elif agent_beliefs[agent2]['type'] == 'minority_2': \n",
    "        agent_beliefs[agent]['ab'][1] += 1\n",
    "    # split the \\sqrt(t) if updating by a majority agent\n",
    "    # update: don't update if interacting w majority\n",
    "#    else: \n",
    "#         agent_beliefs[agent]['ab'][0] += agent_beliefs[agent2]['theta'] \n",
    "#         agent_beliefs[agent]['ab'][1] += (1- agent_beliefs[agent2]['theta'])\n",
    "\n",
    "    agent_beliefs[agent]['theta'] = 1.0 * agent_beliefs[agent]['ab'][0]/ (agent_beliefs[agent]['ab'][0] + agent_beliefs[agent]['ab'][1])\n",
    "    return \n",
    "def update_belief_assignment(agent_dict): \n",
    "    minority_n = 0\n",
    "    minority_2_n = 0 \n",
    "    majority_n = 0 \n",
    "    for agent in agent_dict: \n",
    "        if (agent_dict[agent]['theta'] > 0.9): \n",
    "            agent_dict[agent]['type'] == 'minority'\n",
    "            minority_n += 1\n",
    "        if (agent_dict[agent]['theta'] < 0.1): \n",
    "            agent_dict[agent]['type'] == 'minority_2'\n",
    "            minority_2_n += 1\n",
    "        else: \n",
    "            majority_n += 1\n",
    "    return [minority_n, minority_2_n, majority_n]\n",
    "            \n",
    "#def mean_sd_type(agent_dict, type): \n",
    "    # return the mean and standard deviation of the hyperparameters of a certain type ? \n",
    "    # this is nT: can be made more efficient"
   ]
  },
  {
   "cell_type": "markdown",
   "metadata": {},
   "source": [
    "# Main simulation loop"
   ]
  },
  {
   "cell_type": "code",
   "execution_count": 16,
   "metadata": {
    "collapsed": false
   },
   "outputs": [
    {
     "data": {
      "image/png": "[encoded data removed]",
      "text/plain": [
       "<matplotlib.figure.Figure at 0x16cbc588>"
      ]
     },
     "metadata": {},
     "output_type": "display_data"
    },
    {
     "data": {
      "image/png": "[encoded data removed]",
      "text/plain": [
       "<matplotlib.figure.Figure at 0x1751b358>"
      ]
     },
     "metadata": {},
     "output_type": "display_data"
    },
    {
     "data": {
      "image/png": "[encoded data removed]",
      "text/plain": [
       "<matplotlib.figure.Figure at 0x14424ef0>"
      ]
     },
     "metadata": {},
     "output_type": "display_data"
    },
    {
     "name": "stdout",
     "output_type": "stream",
     "text": [
      "{0: {'theta': 0.54397878650929388, 'ab': array([ 38331755.42049667,  32133778.10971897]), 'type': 'majority'}, 1: {'theta': 0.54397878650929388, 'ab': array([ 38331755.42049667,  32133778.10971897]), 'type': 'majority'}, 2: {'theta': 0.54397878650929388, 'ab': array([ 38331755.42049667,  32133778.10971897]), 'type': 'majority'}, 3: {'theta': 0.54397878650929388, 'ab': array([ 38331755.42049667,  32133778.10971897]), 'type': 'majority'}, 4: {'theta': 0, 'ab': [0, 1], 'type': 'minority_2'}, 5: {'theta': 0.54397878650929388, 'ab': array([ 38331755.42049667,  32133778.10971897]), 'type': 'majority'}, 6: {'theta': 1, 'ab': [0, 1], 'type': 'minority'}, 7: {'theta': 1, 'ab': [0, 1], 'type': 'minority'}, 8: {'theta': 0, 'ab': [0, 1], 'type': 'minority_2'}, 9: {'theta': 0.54397878650929388, 'ab': array([ 38331755.42049667,  32133778.10971897]), 'type': 'majority'}, 10: {'theta': 0.54397878650929388, 'ab': array([ 38331755.42049667,  32133778.10971897]), 'type': 'majority'}, 11: {'theta': 0.54397878650929388, 'ab': array([ 38331755.42049667,  32133778.10971897]), 'type': 'majority'}, 12: {'theta': 0.54397878650929388, 'ab': array([ 38331755.42049667,  32133778.10971897]), 'type': 'majority'}, 13: {'theta': 0.54397878650929388, 'ab': array([ 38331755.42049667,  32133778.10971897]), 'type': 'majority'}, 14: {'theta': 0.54397878650929388, 'ab': array([ 38331755.42049667,  32133778.10971897]), 'type': 'majority'}, 15: {'theta': 0.54397878650929388, 'ab': array([ 38331755.42049667,  32133778.10971897]), 'type': 'majority'}, 16: {'theta': 1, 'ab': [0, 1], 'type': 'minority'}, 17: {'theta': 0, 'ab': [0, 1], 'type': 'minority_2'}, 18: {'theta': 0.54397878650929388, 'ab': array([ 38331755.42049667,  32133778.10971897]), 'type': 'majority'}, 19: {'theta': 0.54397878650929388, 'ab': array([ 38331755.42049667,  32133778.10971897]), 'type': 'majority'}, 20: {'theta': 0.54397878650929388, 'ab': array([ 38331755.42049667,  32133778.10971897]), 'type': 'majority'}, 21: {'theta': 1, 'ab': [0, 1], 'type': 'minority'}, 22: {'theta': 0.54397878650929388, 'ab': array([ 38331755.42049667,  32133778.10971897]), 'type': 'majority'}, 23: {'theta': 1, 'ab': [0, 1], 'type': 'minority'}, 24: {'theta': 0.54397878650929388, 'ab': array([ 38331755.42049667,  32133778.10971897]), 'type': 'majority'}, 25: {'theta': 0.54397878650929388, 'ab': array([ 38331755.42049667,  32133778.10971897]), 'type': 'majority'}, 26: {'theta': 1, 'ab': [0, 1], 'type': 'minority'}, 27: {'theta': 0.54397878650929388, 'ab': array([ 38331755.42049667,  32133778.10971897]), 'type': 'majority'}, 28: {'theta': 0.54397878650929388, 'ab': array([ 38331755.42049667,  32133778.10971897]), 'type': 'majority'}, 29: {'theta': 0.54397878650929388, 'ab': array([ 38331755.42049667,  32133778.10971897]), 'type': 'majority'}, 30: {'theta': 0.54397878650929388, 'ab': array([ 38331755.42049667,  32133778.10971897]), 'type': 'majority'}, 31: {'theta': 1, 'ab': [0, 1], 'type': 'minority'}, 32: {'theta': 0.54397878650929388, 'ab': array([ 38331755.42049667,  32133778.10971897]), 'type': 'majority'}, 33: {'theta': 0.54397878650929388, 'ab': array([ 38331755.42049667,  32133778.10971897]), 'type': 'majority'}, 34: {'theta': 0, 'ab': [0, 1], 'type': 'minority_2'}, 35: {'theta': 0.54397878650929388, 'ab': array([ 38331755.42049667,  32133778.10971897]), 'type': 'majority'}, 36: {'theta': 0.54397878650929388, 'ab': array([ 38331755.42049667,  32133778.10971897]), 'type': 'majority'}, 37: {'theta': 0.54397878650929388, 'ab': array([ 38331755.42049667,  32133778.10971897]), 'type': 'majority'}, 38: {'theta': 0.54397878650929388, 'ab': array([ 38331755.42049667,  32133778.10971897]), 'type': 'majority'}, 39: {'theta': 0.54397878650929388, 'ab': array([ 38331755.42049667,  32133778.10971897]), 'type': 'majority'}, 40: {'theta': 0.54397878650929388, 'ab': array([ 38331755.42049667,  32133778.10971897]), 'type': 'majority'}, 41: {'theta': 0, 'ab': [0, 1], 'type': 'minority_2'}, 42: {'theta': 0.54397878650929388, 'ab': array([ 38331755.42049667,  32133778.10971897]), 'type': 'majority'}, 43: {'theta': 0.54397878650929388, 'ab': array([ 38331755.42049667,  32133778.10971897]), 'type': 'majority'}, 44: {'theta': 1, 'ab': [0, 1], 'type': 'minority'}, 45: {'theta': 0.54397878650929388, 'ab': array([ 38331755.42049667,  32133778.10971897]), 'type': 'majority'}, 46: {'theta': 0.54397878650929388, 'ab': array([ 38331755.42049667,  32133778.10971897]), 'type': 'majority'}, 47: {'theta': 0, 'ab': [0, 1], 'type': 'minority_2'}, 48: {'theta': 0.54397878650929388, 'ab': array([ 38331755.42049667,  32133778.10971897]), 'type': 'majority'}, 49: {'theta': 0.54397878650929388, 'ab': array([ 38331755.42049667,  32133778.10971897]), 'type': 'majority'}, 50: {'theta': 0.54397878650929388, 'ab': array([ 38331755.42049667,  32133778.10971897]), 'type': 'majority'}, 51: {'theta': 1, 'ab': [0, 1], 'type': 'minority'}, 52: {'theta': 0.54397878650929388, 'ab': array([ 38331755.42049667,  32133778.10971897]), 'type': 'majority'}, 53: {'theta': 1, 'ab': [0, 1], 'type': 'minority'}, 54: {'theta': 0.54397878650929388, 'ab': array([ 38331755.42049667,  32133778.10971897]), 'type': 'majority'}, 55: {'theta': 0.54397878650929388, 'ab': array([ 38331755.42049667,  32133778.10971897]), 'type': 'majority'}, 56: {'theta': 0.54397878650929388, 'ab': array([ 38331755.42049667,  32133778.10971897]), 'type': 'majority'}, 57: {'theta': 1, 'ab': [0, 1], 'type': 'minority'}, 58: {'theta': 0.54397878650929388, 'ab': array([ 38331755.42049667,  32133778.10971897]), 'type': 'majority'}, 59: {'theta': 0, 'ab': [0, 1], 'type': 'minority_2'}, 60: {'theta': 0.54397878650929388, 'ab': array([ 38331755.42049667,  32133778.10971897]), 'type': 'majority'}, 61: {'theta': 0.54397878650929388, 'ab': array([ 38331755.42049667,  32133778.10971897]), 'type': 'majority'}, 62: {'theta': 0.54397878650929388, 'ab': array([ 38331755.42049667,  32133778.10971897]), 'type': 'majority'}, 63: {'theta': 0.54397878650929388, 'ab': array([ 38331755.42049667,  32133778.10971897]), 'type': 'majority'}, 64: {'theta': 0, 'ab': [0, 1], 'type': 'minority_2'}, 65: {'theta': 1, 'ab': [0, 1], 'type': 'minority'}, 66: {'theta': 0.54397878650929388, 'ab': array([ 38331755.42049667,  32133778.10971897]), 'type': 'majority'}, 67: {'theta': 0.54397878650929388, 'ab': array([ 38331755.42049667,  32133778.10971897]), 'type': 'majority'}, 68: {'theta': 1, 'ab': [0, 1], 'type': 'minority'}, 69: {'theta': 0, 'ab': [0, 1], 'type': 'minority_2'}, 70: {'theta': 0.54397878650929388, 'ab': array([ 38331755.42049667,  32133778.10971897]), 'type': 'majority'}, 71: {'theta': 0, 'ab': [0, 1], 'type': 'minority_2'}, 72: {'theta': 0.54397878650929388, 'ab': array([ 38331755.42049667,  32133778.10971897]), 'type': 'majority'}, 73: {'theta': 0.54397878650929388, 'ab': array([ 38331755.42049667,  32133778.10971897]), 'type': 'majority'}, 74: {'theta': 0.54397878650929388, 'ab': array([ 38331755.42049667,  32133778.10971897]), 'type': 'majority'}, 75: {'theta': 0.54397878650929388, 'ab': array([ 38331755.42049667,  32133778.10971897]), 'type': 'majority'}, 76: {'theta': 0.54397878650929388, 'ab': array([ 38331755.42049667,  32133778.10971897]), 'type': 'majority'}, 77: {'theta': 0.54397878650929388, 'ab': array([ 38331755.42049667,  32133778.10971897]), 'type': 'majority'}, 78: {'theta': 0, 'ab': [0, 1], 'type': 'minority_2'}, 79: {'theta': 0.54397878650929388, 'ab': array([ 38331755.42049667,  32133778.10971897]), 'type': 'majority'}, 80: {'theta': 1, 'ab': [0, 1], 'type': 'minority'}, 81: {'theta': 0.54397878650929388, 'ab': array([ 38331755.42049667,  32133778.10971897]), 'type': 'majority'}, 82: {'theta': 0.54397878650929388, 'ab': array([ 38331755.42049667,  32133778.10971897]), 'type': 'majority'}, 83: {'theta': 0.54397878650929388, 'ab': array([ 38331755.42049667,  32133778.10971897]), 'type': 'majority'}, 84: {'theta': 0.54397878650929388, 'ab': array([ 38331755.42049667,  32133778.10971897]), 'type': 'majority'}, 85: {'theta': 0.54397878650929388, 'ab': array([ 38331755.42049667,  32133778.10971897]), 'type': 'majority'}, 86: {'theta': 0.54397878650929388, 'ab': array([ 38331755.42049667,  32133778.10971897]), 'type': 'majority'}, 87: {'theta': 1, 'ab': [0, 1], 'type': 'minority'}, 88: {'theta': 0, 'ab': [0, 1], 'type': 'minority_2'}, 89: {'theta': 1, 'ab': [0, 1], 'type': 'minority'}, 90: {'theta': 0.54397878650929388, 'ab': array([ 38331755.42049667,  32133778.10971897]), 'type': 'majority'}, 91: {'theta': 0, 'ab': [0, 1], 'type': 'minority_2'}, 92: {'theta': 0.54397878650929388, 'ab': array([ 38331755.42049667,  32133778.10971897]), 'type': 'majority'}, 93: {'theta': 0.54397878650929388, 'ab': array([ 38331755.42049667,  32133778.10971897]), 'type': 'majority'}, 94: {'theta': 0.54397878650929388, 'ab': array([ 38331755.42049667,  32133778.10971897]), 'type': 'majority'}, 95: {'theta': 0.54397878650929388, 'ab': array([ 38331755.42049667,  32133778.10971897]), 'type': 'majority'}, 96: {'theta': 0.54397878650929388, 'ab': array([ 38331755.42049667,  32133778.10971897]), 'type': 'majority'}, 97: {'theta': 0.54397878650929388, 'ab': array([ 38331755.42049667,  32133778.10971897]), 'type': 'majority'}, 98: {'theta': 0.54397878650929388, 'ab': array([ 38331755.42049667,  32133778.10971897]), 'type': 'majority'}, 99: {'theta': 0.54397878650929388, 'ab': array([ 38331755.42049667,  32133778.10971897]), 'type': 'majority'}}\n"
     ]
    }
   ],
   "source": [
    "\n",
    "# start simulation loop (? how long) \n",
    "# select agents at random to interact (how many? weighted by each group? )\n",
    "# check indices of the two agents and implement rules \n",
    "# update their beliefs \n",
    "\n",
    "# function takes in n, # timesteps\n",
    " \n",
    "    # data structures for logging: keep track of\n",
    "    # - distribution of beliefs for each group of agents vs time\n",
    "    # - size of each group vs time\n",
    "\n",
    "\n",
    "\n",
    "\n",
    "T = 10000\n",
    "# number of interactions at every round\n",
    "t_round = 60\n",
    "n_agents = 2 # number of agents that interact\n",
    "group_n = np.zeros((T, 3))\n",
    "\n",
    "# keep track of hyperparameters\n",
    "mean_maj_beliefs = np.zeros(T)\n",
    "\n",
    "# sd of belief? \n",
    "std_maj_beliefs = np.zeros(T)\n",
    "\n",
    "for t in np.arange(T): \n",
    "    # randomly select two agents \n",
    "    interaction_agents = random.sample(agents, n_agents)\n",
    "    # need to generalize this better\n",
    "    agent = interaction_agents[0]\n",
    "    agent2 = interaction_agents[1]\n",
    "    if (agent in majority or agent2 in majority): \n",
    "        # update each by the other \n",
    "        # sample belief probability to get success probability \n",
    "        # of an update \n",
    "        if  agent_beliefs[agent]['type'] == 'majority': \n",
    "            update_beliefs(agent, agent2, agent_beliefs, t)\n",
    "        if  agent_beliefs[agent2]['type'] == 'majority': \n",
    "            update_beliefs(agent2, agent, agent_beliefs, t)\n",
    "    # keep track of statistics\n",
    "    maj_beliefs = []\n",
    "    for agent, val in agent_beliefs.items(): \n",
    "        if val['type'] == \"majority\": \n",
    "            maj_beliefs.append(val['theta'])\n",
    "\n",
    "    mean_maj_beliefs[t] = np.mean(maj_beliefs)\n",
    "    std_maj_beliefs[t] = np.std(maj_beliefs)\n",
    "    # move people into minority if their beliefs have migrated \n",
    "    group_n[t][:] += update_belief_assignment(agent_beliefs)\n",
    "    \n",
    "\n",
    "plt.plot(group_n[:,1])\n",
    "plt.title('size of minority 1')\n",
    "plt.show()\n",
    "    \n",
    "plt.plot(mean_maj_beliefs)\n",
    "#plt.title('Mean of Majority Beliefs over Time')\n",
    "plt.title('')\n",
    "plt.show()\n",
    "\n",
    "plt.plot(std_maj_beliefs)\n",
    "plt.title('Standard Deviation of Majority Beliefs over Time')\n",
    "plt.show()\n",
    "print agent_beliefs                \n",
    "                \n",
    "                \n",
    "    \n",
    "    \n",
    "    "
   ]
  },
  {
   "cell_type": "code",
   "execution_count": null,
   "metadata": {
    "collapsed": true
   },
   "outputs": [],
   "source": []
  }
 ],
 "metadata": {
  "kernelspec": {
   "display_name": "Python 2",
   "language": "python",
   "name": "python2"
  },
  "language_info": {
   "codemirror_mode": {
    "name": "ipython",
    "version": 2
   },
   "file_extension": ".py",
   "mimetype": "text/x-python",
   "name": "python",
   "nbconvert_exporter": "python",
   "pygments_lexer": "ipython2",
   "version": "2.7.8"
  }
 },
 "nbformat": 4,
 "nbformat_minor": 0
}
